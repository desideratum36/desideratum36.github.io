{
 "cells": [
  {
   "cell_type": "code",
   "execution_count": 1,
   "id": "752a1d13",
   "metadata": {},
   "outputs": [],
   "source": [
    "import pandas as pd\n",
    "import json\n",
    "import os"
   ]
  },
  {
   "cell_type": "code",
   "execution_count": 2,
   "id": "9926a2ee",
   "metadata": {},
   "outputs": [],
   "source": [
    "class Enstar:\n",
    "    def __init__(self, row):\n",
    "        self.name = row['Name']\n",
    "        self.nimg = os.path.join(\"images\", \"_\".join(row['Name'].split(\" \"))+\".png\")\n",
    "        self.agency = row['Agency']\n",
    "        self.aimg = os.path.join(\"images\", \"_\".join(row['Agency'].split(\" \"))+\".png\")\n",
    "        self.unit = row['Unit']\n",
    "        self.uimg = os.path.join(\"images\", row['Unit'][0].upper() + (row['Unit'].translate({ord(\":\"):\"\", ord(\"*\"):ord(\"_\")})+\".png\")[1:])\n",
    "        self.year = \"No school\" if pd.isnull(row['Year']) else row['Year']\n",
    "        self.hc = row['Hair Color']\n",
    "        self.ec = row['Eye Color']\n",
    "        self.c = \"#\"+str(row['Color'])\n",
    "        self.bt = row['Blood Type']\n",
    "        self.h = int(row['Height (cm)'])\n",
    "        self.w = int(row['Weight (kg)'])\n",
    "        self.circles = row['Circles'].split(\", \")\n",
    "        self.currentrm = row['Roommates'].split(\"/\")[0].split(\", \")\n",
    "        self.pastrm = [x.split(\", \") for x in row[\"Roommates\"].split(\"/\")[1:]]\n",
    "        self.ss = row['Star Signs']\n",
    "        self.age = row['Age']\n",
    "        self.shuffle = row['Shuffle Units'].split(\", \")\n",
    "    \n",
    "    def __json__(self):\n",
    "        return {'name': self.name, \n",
    "                'nimg': self.nimg,\n",
    "                'agency': self.agency, \n",
    "                'aimg': self.aimg,\n",
    "                'unit': self.unit,\n",
    "                'uimg': self.uimg,\n",
    "                'year': self.year,\n",
    "                'hc': self.hc,\n",
    "                'ec': self.ec,\n",
    "                'c': self.c,\n",
    "                'bt': self.bt,\n",
    "                'h': self.h,\n",
    "                'w': self.w,\n",
    "                'circles': self.circles,\n",
    "                'currentrm': self.currentrm,\n",
    "                'pastrm': self.pastrm,\n",
    "                'ss': self.ss,\n",
    "                'age': self.age,\n",
    "                'shuffle': self.shuffle,\n",
    "                }\n",
    "\n",
    "df = pd.read_csv(\"ensemble.csv\")\n",
    "enstars = []\n",
    "for i in range(49):\n",
    "    enstars.append(Enstar(df.loc[i]))"
   ]
  },
  {
   "cell_type": "code",
   "execution_count": 3,
   "id": "3266cc0d",
   "metadata": {},
   "outputs": [],
   "source": [
    "with open(\"ensemble.json\", \"w\") as file:\n",
    "    json.dump(enstars, file, indent=4, default=lambda o: o.__json__() if hasattr(o, '__json__') else None)"
   ]
  }
 ],
 "metadata": {
  "kernelspec": {
   "display_name": "Python 3",
   "language": "python",
   "name": "python3"
  },
  "language_info": {
   "codemirror_mode": {
    "name": "ipython",
    "version": 3
   },
   "file_extension": ".py",
   "mimetype": "text/x-python",
   "name": "python",
   "nbconvert_exporter": "python",
   "pygments_lexer": "ipython3",
   "version": "3.11.0"
  }
 },
 "nbformat": 4,
 "nbformat_minor": 5
}
